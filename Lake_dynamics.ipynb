{
 "cells": [
  {
   "cell_type": "markdown",
   "id": "9a5461ec",
   "metadata": {},
   "source": [
    "# Lake dynamics\n",
    "\n",
    "This problem is from Dr. Scott Socolofsky's EFM problem dictionary. \n",
    "\n",
    "In this module, we will learn:\n",
    "\n",
    "- Lake thermal straification, buoyancy frequency\n",
    "\n",
    "- Heat content and heat flux\n",
    "\n",
    "- Turbulent diffusivisty\n",
    "\n",
    "- Richardson number classification for vertical mixing \n",
    "\n",
    "- Lake seiche \n"
   ]
  },
  {
   "cell_type": "code",
   "execution_count": 1,
   "id": "e64fc812",
   "metadata": {},
   "outputs": [],
   "source": [
    "import numpy as np\n",
    "import matplotlib.pyplot as plt"
   ]
  },
  {
   "cell_type": "code",
   "execution_count": 2,
   "id": "ee92f0e0",
   "metadata": {},
   "outputs": [],
   "source": [
    "# Data \n",
    "\n",
    "# Depth (m)\n",
    "z = np.array([0., 5., 8., 10., 13., 15., 20., 30., 40., 50.]) \n",
    "# Area (m^2)\n",
    "A = np.array([15., 13.5, 12.8, 12., 11.2, 10.5, 9., 6., 3., 0.]) * 1000.0**2 \n",
    "# Temperature on June 15 (^oC)\n",
    "T1 = np.array([18.3, 13.1, 10., 7.3, 6.0, 5.8, 5.4, 5.1, 4.9, 4.8])\n",
    "# Velocity on June 15 (m/s)\n",
    "U1 = np.array([0.23, 0.18, 0.11, 0.08, 0.03, -0.02, -0.02, -0.01, -0.01, 0.0])\n",
    "# Temperature on August 15 (^oC)\n",
    "T2 = np.array([22.2, 19.1, 12.8, 8.4, 6.4, 5.9, 5.5, 5.3, 5.1, 5.0])\n",
    "# Velocity on August 15 (m/s)\n",
    "U2 = np.array([0.12, 0.11, 0.08, 0.05, 0.01, -0.01, -0.005, -0.005, -0.01, 0.0])\n",
    "# Time difference (days)\n",
    "dt = 61"
   ]
  },
  {
   "cell_type": "markdown",
   "id": "e450b701",
   "metadata": {},
   "source": [
    "## Plot temperature and velocity data"
   ]
  },
  {
   "cell_type": "code",
   "execution_count": 3,
   "id": "887a2f96",
   "metadata": {},
   "outputs": [
    {
     "data": {
      "text/plain": [
       "<matplotlib.legend.Legend at 0x7fb4709a0f40>"
      ]
     },
     "execution_count": 3,
     "metadata": {},
     "output_type": "execute_result"
    },
    {
     "data": {
      "image/png": "[encoded data removed]",
      "text/plain": [
       "<Figure size 720x360 with 2 Axes>"
      ]
     },
     "metadata": {
      "needs_background": "light"
     },
     "output_type": "display_data"
    }
   ],
   "source": [
    "fig, (ax1, ax2) = plt.subplots(nrows=1, ncols=2, figsize=(10,5))\n",
    "ax1.plot(T1,z, label = 'June 15')\n",
    "ax1.plot(T2,z, label = 'August 15')\n",
    "ax1.invert_yaxis()\n",
    "ax1.set_xlabel(r'T ($^oC$)')\n",
    "ax1.set_ylabel(r'z (m)')\n",
    "ax1.legend()\n",
    "\n",
    "ax2.plot(U1,z, label = 'June 15')\n",
    "ax2.plot(U2,z, label = 'August 15')\n",
    "ax2.invert_yaxis()\n",
    "ax2.set_xlabel(r'U (m/s)')\n",
    "ax2.set_ylabel(r'z (m)')\n",
    "ax2.legend()"
   ]
  },
  {
   "cell_type": "markdown",
   "id": "761f993e",
   "metadata": {},
   "source": [
    "## Calculate water properties\n",
    "\n",
    "In lake dynamics, density of water is an important parameter and its dependence on temperature, salinity and pressure must be considered. Here we use the 'seawater' module of TAMOC (Texas A\\&M Oil Spill Calculator) model. Let's borrow its function for water density:"
   ]
  },
  {
   "cell_type": "code",
   "execution_count": 4,
   "id": "143fc399",
   "metadata": {},
   "outputs": [],
   "source": [
    "def density(T, S, P):\n",
    "    \"\"\"\n",
    "    Computes the density of seawater from Gill (1982)\n",
    "    \n",
    "    Computes the density of seawater. For temperatures less than 40 deg C, this\n",
    "    function uses the equation of state in Gill (1982), *Ocean-Atmosphere\n",
    "    Dynamics*, Academic Press, New York; the equations for this code are taken from\n",
    "    Appendix B in Crounse (2000). For higher temperatures, this function uses the\n",
    "    equations in Sun et al. (2008), Deep-Sea Research I, Volume 55, pages 1304-1310.\n",
    "    \n",
    "    Parameters\n",
    "    ----------\n",
    "    T : float\n",
    "        temperature (K)\n",
    "    S : float\n",
    "        salinity (psu)\n",
    "    P : float\n",
    "        pressure (Pa)\n",
    "    \n",
    "    Returns\n",
    "    -------\n",
    "    rho : float\n",
    "        seawater density (kg/m^3)\n",
    "    \n",
    "    \"\"\"\n",
    "    if T < 273.15 + 40:\n",
    "        # Convert T to dec C and P to bar\n",
    "        T = T - 273.15\n",
    "        P = P * 1.e-5\n",
    "    \n",
    "        # Compute the density at atmospheric pressure\n",
    "        rho_sw_0 = (\n",
    "                    999.842594 + 6.793952e-2 * T - 9.095290e-3 * T**2 \n",
    "                    + 1.001685e-4 * T**3 - 1.120083e-6 * T**4 + 6.536332e-9 * T**5 \n",
    "                    + 8.24493e-1 * S - 5.72466e-3 * S**(3./2.) + 4.8314e-4 * S**2 \n",
    "                    - 4.0899e-3 * T*S + 7.6438e-5 * T**2 * S - 8.2467e-7 * T**3 * \n",
    "                    S + 5.3875e-9 * T**4 * S + 1.0227e-4 * T * S**(3./2.) \n",
    "                    - 1.6546e-6 * T**2 * S**(3./2.)\n",
    "                    )\n",
    "    \n",
    "        # Compute the pressure correction coefficient\n",
    "        K = (\n",
    "             19652.21 + 148.4206 * T - 2.327105 * T**2 + 1.360477e-2 * T**3 \n",
    "             - 5.155288e-5 * T**4 + 3.239908 * P + 1.43713e-3 * T * P \n",
    "             + 1.16092e-4 * T**2 * P - 5.77905e-7 * T**3 * P \n",
    "             + 8.50935e-5 * P**2 - 6.12293e-6 * T * P**2 \n",
    "             + 5.2787e-8 * T**2 * P**2 + 54.6746 * S - 0.603459 * T * S \n",
    "             + 1.09987e-2 * T**2 * S - 6.1670e-5 * T**3 * S \n",
    "             + 7.944e-2 * S**(3./2.) + 1.64833e-2 * T * S**(3./2.) \n",
    "             - 5.3009e-4 * T**2 * S**(3./2.) + 2.2838e-3 * P * S \n",
    "             - 1.0981e-5 * T * P * S - 1.6078e-6 * T**2 * P * S \n",
    "             + 1.91075e-4 * P * S**(3./2.) - 9.9348e-7 * P**2 * S \n",
    "             + 2.0816e-8 * T * P**2 * S + 9.1697e-10 * T**2 * P**2 * S\n",
    "             )\n",
    "        \n",
    "        rho = rho_sw_0 / (1 - P / K)\n",
    "    \n",
    "    else:\n",
    "        # Convert T to deg C and P to MPa\n",
    "        T = T - 273.15\n",
    "        P = P / 1.e6\n",
    "        \n",
    "        # Summations\n",
    "        left_col = 9.9920571e2 + 9.5390097e-2 * T - 7.6186636e-3 * T**2 + \\\n",
    "            3.1305828e-5 * T**3 - 6.1737704e-8  * T**4 + 4.3368858e-1 * P + \\\n",
    "            2.5495667e-5 * P*T**2 - 2.8988021e-7 * P*T**3 + \\\n",
    "            9.5784313e-10 * P*T**4 + 1.7627497e-3 * P**2 - 1.2312703e-4 * P**2*T \\\n",
    "            + 1.3659381e-6 * P**2*T**2 + 4.0454583e-9 * P**2*T**3 - 1.4673241e-5 \\\n",
    "            * P**3 + 8.8391585e-7 * P**3*T - 1.1021321e-9 * P**3*T**2 + \\\n",
    "            4.2472611e-11 * P**3*T**3 - 3.9591772e-14 * P**3*T**4\n",
    "        right_col = -7.99992230e-1 * S + 2.40936500e-3 * S*T - 2.58052775e-5 * \\\n",
    "            S*T**2 + 6.85608405e-8 * S*T**3 + 6.29761106e-4 * P*S - \\\n",
    "            9.36263713e-7 * P**2*S\n",
    "        \n",
    "        rho = left_col - right_col\n",
    "    \n",
    "    return rho"
   ]
  },
  {
   "cell_type": "code",
   "execution_count": 34,
   "id": "f676a260",
   "metadata": {},
   "outputs": [
    {
     "name": "stdout",
     "output_type": "stream",
     "text": [
      "999.4269322458301\n"
     ]
    }
   ],
   "source": [
    "# Water properties in the lake \n",
    "\n",
    "cp = 3997.4     # J/(kg K)\n",
    "T = 13# np.mean(T1) # mean temperature \n",
    "S = 0.0         # Salinity \n",
    "P = 101325.0    # Pressure\n",
    "\n",
    "# use above function to calculate mean water density\n",
    "rho = density(T+273.15, S, P)\n",
    "print(rho)"
   ]
  },
  {
   "cell_type": "code",
   "execution_count": 46,
   "id": "749df2ec",
   "metadata": {},
   "outputs": [
    {
     "name": "stdout",
     "output_type": "stream",
     "text": [
      "37.96185794092569\n"
     ]
    }
   ],
   "source": [
    "rhoh = 1000.1\n",
    "rhoe = 999.3\n",
    "he = 3\n",
    "hh = 30\n",
    "g = 9.81\n",
    "L = 10000\n",
    "t  = 2*L/(g*(rhoh-rhoe)/(rhoh/hh+rhoe/he))**0.5\n",
    "print(t/3600)"
   ]
  },
  {
   "cell_type": "markdown",
   "id": "2985c70d",
   "metadata": {},
   "source": [
    "## Calculate heat content in the lake at these two different dates and the mean heat flux from atmosphere in this period\n",
    "\n",
    "Total heat content:\n",
    "\n",
    "H = $\\int^h_0 \\rho c_p T(z) A(z) dz$\n",
    "\n",
    "where $h$ is lake depth, $c_p$ is heat capacity at constant pressure, $A$ is lake area, and $T$ is temperature. Here, $A$ and $T$ are function of $z$. We can assume depth variations in $c_p$ and $\\rho$ are small.\n",
    "\n",
    "We can use trapezoidal rule to do numerical integration from the data points."
   ]
  },
  {
   "cell_type": "code",
   "execution_count": 157,
   "id": "5ab9f552",
   "metadata": {},
   "outputs": [],
   "source": [
    "dz = z[1:] - z[:-1] \n",
    "# Convert temperature to Kelvin\n",
    "T1_in_K = T1 + 273.15\n",
    "T2_in_K = T2 + 273.15\n",
    "\n",
    "# Hand calculation of integration\n",
    "# Heat content on June 15\n",
    "H1 = np.sum( rho * cp * (T1_in_K[:-1]*A[:-1] + T1_in_K[1:]*A[1:])/2 * dz )\n",
    "# Heat content on August 15\n",
    "H2 = np.sum( rho * cp * (T2_in_K[:-1]*A[:-1] + T2_in_K[1:]*A[1:])/2 * dz )\n",
    "\n",
    "# Using a package to calculate integration\n",
    "from scipy import integrate \n",
    "H11 = integrate.cumtrapz(T1_in_K*A*rho*cp, z, initial=0)\n",
    "H22 = integrate.cumtrapz(T2_in_K*A*rho*cp, z, initial=0)"
   ]
  },
  {
   "cell_type": "code",
   "execution_count": 158,
   "id": "592d5cdf",
   "metadata": {},
   "outputs": [
    {
     "name": "stdout",
     "output_type": "stream",
     "text": [
      "Mean heat flux is 479658.3860388221 kW\n",
      "Mean heat flux is 479658.3860388343 kW\n"
     ]
    }
   ],
   "source": [
    "# mean heat flux in J/s = W, then convert to kW\n",
    "H_dot = (H2-H1)/(dt*24*3600)/1000\n",
    "print('Mean heat flux is', H_dot, 'kW')\n",
    "H_dot = (H22[-1]-H11[-1])/(dt*24*3600)/1000\n",
    "print('Mean heat flux is', H_dot, 'kW')"
   ]
  },
  {
   "cell_type": "markdown",
   "id": "e1ba7a9c",
   "metadata": {},
   "source": [
    "## Calculate vertical diffusivity at each depth\n",
    "\n",
    "The ratio of turbulent diffusivity to turbulent viscosity can be estimated from the ratio of molecular diffusivity and viscosity: \n",
    "\n",
    "$\\frac{D_t}{\\nu_t} \\approx \\frac{D}{\\nu}$\n",
    "\n",
    "Similarlly, the raito of turbulent viscosity to molecluar viscosity can be related to thermal diffusivity. \n",
    "\n",
    "$\\frac{\\nu_t}{\\nu} \\approx \\frac{\\alpha_t}{\\alpha}$\n",
    "\n",
    "where the turbulent thermal diffusivity can be obtained from the heat flux measurements.\n",
    "\n",
    "The molecular thermal diffusivity can be estimated from the given thermal conducitivity:\n",
    "\n",
    "$\\alpha = \\frac{k}{\\rho c_p}$\n",
    "\n",
    "where $k = 0.6$ W/mK is the thermal conductivity.\n",
    "\n",
    "Calculation of turbulent diffusivity follows the heat flux equation:\n",
    "\n",
    "The total heat flux into the lake during this time period is related to the temperature gradient (heat equation):\n",
    "\n",
    "$\\dot{H} = \\alpha_t A \\rho c_p \\nabla T$ where $\\nabla T = dT/dz$ in one-dimensional problem here.\n",
    "\n",
    "So that we can obtain turbulent thermal diffusivity $\\alpha_t$:\n",
    "\n",
    "$D_t = D \\frac{\\alpha_t}{\\alpha}$\n",
    "\n",
    "where molecular diffusivity and thermal diffusivity are known. "
   ]
  },
  {
   "cell_type": "code",
   "execution_count": 159,
   "id": "1ea022c6",
   "metadata": {},
   "outputs": [
    {
     "data": {
      "text/plain": [
       "Text(0, 0.5, 'z (m)')"
      ]
     },
     "execution_count": 159,
     "metadata": {},
     "output_type": "execute_result"
    },
    {
     "data": {
      "image/png": "[encoded data removed]",
      "text/plain": [
       "<Figure size 432x288 with 1 Axes>"
      ]
     },
     "metadata": {
      "needs_background": "light"
     },
     "output_type": "display_data"
    }
   ],
   "source": [
    "# Heat content on June 15 at each depth, (J)\n",
    "H1 = rho * cp * (T1_in_K[:-1]*A[:-1] + T1_in_K[1:]*A[1:])/2 * dz \n",
    "# Heat content on August 15 at each depth, (J)\n",
    "H2 = rho * cp * (T2_in_K[:-1]*A[:-1] + T2_in_K[1:]*A[1:])/2 * dz \n",
    "\n",
    "# Heat flux, (J/s)\n",
    "H_dot = (H2 - H1)/(dt*24*3600)\n",
    "\n",
    "# Vertical temperature gradient, K/m\n",
    "dT1dz = (T1_in_K[1:] - T1_in_K[:-1]) / (-dz)\n",
    "dT2dz = (T2_in_K[1:] - T2_in_K[:-1]) / (-dz)\n",
    "# take mean value \n",
    "dTdz = (dT1dz + dT2dz) / 2.0\n",
    "\n",
    "# vertical heat content gradient, J/m^4\n",
    "dCdz = cp * rho * dTdz\n",
    "\n",
    "# Area of lake in the mid-point, m^2\n",
    "A_mid = (A[1:] + A[:-1]) / 2.0\n",
    "\n",
    "# thermal diffusivity, m^2/s\n",
    "alpha_t = H_dot / (A_mid * dCdz)\n",
    "\n",
    "# molecular diffusivities, m^2/s\n",
    "alpha = 0.6 / (cp * rho)\n",
    "D = 2e-9\n",
    "\n",
    "# Turbulent diffusivity, m^2/s\n",
    "D_t = D * alpha_t / alpha\n",
    "\n",
    "# Plot the figure \n",
    "z_mid = (z[1:] + z[:-1]) / 2.0\n",
    "plt.plot(D_t, z_mid)\n",
    "plt.gca().invert_yaxis()\n",
    "plt.xlabel(r'D (m$^2$/s)')\n",
    "plt.ylabel(r'z (m)')"
   ]
  },
  {
   "cell_type": "markdown",
   "id": "ef7f9e5c",
   "metadata": {},
   "source": [
    "From this result, we can see the smallest diffusivity occurs close to the layer of most temperature gradient. This shows how stratification prevents vertical mixing in the lake. "
   ]
  },
  {
   "cell_type": "markdown",
   "id": "bc33f58b",
   "metadata": {},
   "source": [
    "## Calculate buoyancy frequency \n",
    "\n",
    "$N = \\sqrt{\\left( -\\frac{g}{\\rho}\\frac{\\partial \\rho}{\\partial z} \\right)}$"
   ]
  },
  {
   "cell_type": "code",
   "execution_count": 160,
   "id": "d77d430c",
   "metadata": {},
   "outputs": [
    {
     "data": {
      "text/plain": [
       "<matplotlib.legend.Legend at 0x7f86c0081490>"
      ]
     },
     "execution_count": 160,
     "metadata": {},
     "output_type": "execute_result"
    },
    {
     "data": {
      "image/png": "[encoded data removed]",
      "text/plain": [
       "<Figure size 432x288 with 1 Axes>"
      ]
     },
     "metadata": {
      "needs_background": "light"
     },
     "output_type": "display_data"
    }
   ],
   "source": [
    "rho1 = np.zeros(len(T1))\n",
    "rho2 = np.zeros(len(T2))\n",
    "\n",
    "# calculate water density at each depth\n",
    "for i in range(len(rho1)):\n",
    "    rho1[i] = density(T1_in_K[i], S, P)\n",
    "    \n",
    "for i in range(len(rho2)):\n",
    "    rho2[i] = density(T2_in_K[i], S, P)\n",
    "\n",
    "g = 9.81\n",
    "# buoyancy frequency\n",
    "N1 = np.sqrt(g / rho * (rho1[1:] - rho1[:-1]) / dz)\n",
    "N2 = np.sqrt(g / rho * (rho2[1:] - rho2[:-1]) / dz) \n",
    "\n",
    "plt.plot(N1, z_mid, label = 'June 15')\n",
    "plt.plot(N2, z_mid, label = 'August 15')\n",
    "plt.gca().invert_yaxis()\n",
    "plt.xlabel(r'N (1/s)')\n",
    "plt.ylabel(r'z (m)')\n",
    "plt.legend()"
   ]
  },
  {
   "cell_type": "markdown",
   "id": "cc6db65e",
   "metadata": {},
   "source": [
    "## Calculate Richardson number\n",
    "\n",
    "$Ri = N^2/\\left(\\frac{\\partial U}{\\partial z}\\right)^2$"
   ]
  },
  {
   "cell_type": "code",
   "execution_count": 161,
   "id": "14c5312c",
   "metadata": {},
   "outputs": [
    {
     "name": "stderr",
     "output_type": "stream",
     "text": [
      "/var/folders/4c/txq1qmcs2pg0fygb8lrsf4r40000gp/T/ipykernel_63270/618606231.py:1: RuntimeWarning: divide by zero encountered in true_divide\n",
      "  Ri1 = N1**2 / ((U1[1:] - U1[:-1]) / dz)**2\n",
      "/var/folders/4c/txq1qmcs2pg0fygb8lrsf4r40000gp/T/ipykernel_63270/618606231.py:2: RuntimeWarning: divide by zero encountered in true_divide\n",
      "  Ri2 = N1**2 / ((U2[1:] - U2[:-1]) / dz)**2\n"
     ]
    },
    {
     "data": {
      "image/png": "[encoded data removed]",
      "text/plain": [
       "<Figure size 432x288 with 1 Axes>"
      ]
     },
     "metadata": {
      "needs_background": "light"
     },
     "output_type": "display_data"
    }
   ],
   "source": [
    "Ri1 = N1**2 / ((U1[1:] - U1[:-1]) / dz)**2\n",
    "Ri2 = N1**2 / ((U2[1:] - U2[:-1]) / dz)**2\n",
    "\n",
    "plt.plot(Ri1, z_mid,'o-', label = 'June 15')\n",
    "plt.plot(Ri2, z_mid,'s-', label = 'August 15')\n",
    "plt.plot([0.25, 0.25],[0,50],'--', label='Ri = 0.25')\n",
    "plt.gca().invert_yaxis()\n",
    "plt.xlabel('Ri')\n",
    "plt.ylabel('z (m)')\n",
    "plt.legend()\n",
    "plt.xscale('log')"
   ]
  },
  {
   "cell_type": "markdown",
   "id": "b48dd2b8",
   "metadata": {},
   "source": [
    "## Estimate the maximal allowed wind speed that does not cause mixing in the lake\n",
    "\n",
    "The lake mixing claasification using a two-layer Richardson number (Fisher et al. (1979)):\n",
    "\n",
    "$Ri_* = \\frac{g(\\rho_h-\\rho_e)}{\\bar{\\rho}}\\frac{\\bar{h}}{u_*^2} > \\frac{L^2}{(2h)^2}$ classifies non-mixing: The deepening process proceeds very slowly by turbulent erosion.\n",
    "\n",
    "$L/(2h) < Ri < (L/(2h))^2$: mid-thermocline mixing: Internal waves are the prominant feature of this regime.\n",
    "\n",
    "$1 < Ri < L/(2h)$: Throughout this regime the thermocline will be diffuse and steeply inclined.\n",
    "\n",
    "$Ri < 1$: Deepening is now so rapid and chaotic that the interface will not be well defined."
   ]
  },
  {
   "cell_type": "code",
   "execution_count": 162,
   "id": "799a0ba0",
   "metadata": {},
   "outputs": [
    {
     "data": {
      "text/plain": [
       "<matplotlib.legend.Legend at 0x7f86a246c250>"
      ]
     },
     "execution_count": 162,
     "metadata": {},
     "output_type": "execute_result"
    },
    {
     "data": {
      "image/png": "[encoded data removed]",
      "text/plain": [
       "<Figure size 432x288 with 1 Axes>"
      ]
     },
     "metadata": {
      "needs_background": "light"
     },
     "output_type": "display_data"
    }
   ],
   "source": [
    "plt.plot(rho1,z, label = 'June 15')\n",
    "plt.plot(rho2,z, label = 'August 15')\n",
    "plt.gca().invert_yaxis()\n",
    "plt.xlabel(r'$\\rho$ (kg/m$^3$)')\n",
    "plt.ylabel('z (m)')\n",
    "plt.legend()"
   ]
  },
  {
   "cell_type": "code",
   "execution_count": 168,
   "id": "c5a3b24c",
   "metadata": {},
   "outputs": [
    {
     "name": "stdout",
     "output_type": "stream",
     "text": [
      "rho_e= 999.2510071973628 kg/m^3\n",
      "rho_m= 999.7744346770289 kg/m^3\n",
      "rho_h= 1000.0195241091436 kg/m^3\n"
     ]
    }
   ],
   "source": [
    "# June 15\n",
    "rho_h = max(rho1)\n",
    "h_e = 5 # epilimnion depth\n",
    "rho_e = np.mean(rho1[z<2*h_e])\n",
    "rho_m = np.mean(rho1)\n",
    "print('rho_e=', rho_e, 'kg/m^3')\n",
    "print('rho_m=', rho_m, 'kg/m^3')\n",
    "print('rho_h=', rho_h, 'kg/m^3')"
   ]
  },
  {
   "cell_type": "code",
   "execution_count": 169,
   "id": "8e528fe2",
   "metadata": {},
   "outputs": [],
   "source": [
    "# Lake size and depth\n",
    "L = 8000\n",
    "h = max(z)"
   ]
  },
  {
   "cell_type": "code",
   "execution_count": 170,
   "id": "e206d0e6",
   "metadata": {},
   "outputs": [
    {
     "name": "stdout",
     "output_type": "stream",
     "text": [
      "The allowed maximal shear stress =  0.002427198079070358 m/s\n"
     ]
    }
   ],
   "source": [
    "# citical shear stress\n",
    "u_star = np.sqrt(g * (rho_h - rho_e)/rho_m * h_e / (L**2/(2*h)**2))\n",
    "print('The allowed maximal shear stress = ', u_star, 'm/s')"
   ]
  },
  {
   "cell_type": "code",
   "execution_count": 171,
   "id": "e3b31fb8",
   "metadata": {},
   "outputs": [
    {
     "name": "stdout",
     "output_type": "stream",
     "text": [
      "The allowed maximal wind speed =  0.6144604493851984 m/s\n"
     ]
    }
   ],
   "source": [
    "# calculate wind speed at 10 m \n",
    "\n",
    "rho_a = 1.2 # air density\n",
    "Cd = 0.013  # drag coefficient\n",
    "U10 = u_star / np.sqrt(Cd * rho_a/rho_m)\n",
    "print('The allowed maximal wind speed = ', U10, 'm/s')"
   ]
  },
  {
   "cell_type": "code",
   "execution_count": 172,
   "id": "c2f99dd9",
   "metadata": {},
   "outputs": [
    {
     "name": "stdout",
     "output_type": "stream",
     "text": [
      "rho_e= 998.5532855550332 kg/m^3\n",
      "rho_m= 999.5557464192625 kg/m^3\n",
      "rho_h= 1000.0165645599483 kg/m^3\n",
      "The allowed maximal shear stress =  0.0033495740201656796 m/s\n",
      "The allowed maximal wind speed =  0.8478729702193911 m/s\n"
     ]
    }
   ],
   "source": [
    "# Repeat the above process for August 15\n",
    "rho_h = max(rho2)\n",
    "h_e = 5 # epilimnion depth\n",
    "rho_e = np.mean(rho2[z<2*h_e])\n",
    "rho_m = np.mean(rho2)\n",
    "print('rho_e=', rho_e, 'kg/m^3')\n",
    "print('rho_m=', rho_m, 'kg/m^3')\n",
    "print('rho_h=', rho_h, 'kg/m^3')\n",
    "u_star = np.sqrt(g * (rho_h - rho_e)/rho_m * h_e / (L**2/(2*h)**2))\n",
    "print('The allowed maximal shear stress = ', u_star, 'm/s')\n",
    "U10 = u_star / np.sqrt(Cd * rho_a/rho_m)\n",
    "print('The allowed maximal wind speed = ', U10, 'm/s')"
   ]
  },
  {
   "cell_type": "markdown",
   "id": "5c09a267",
   "metadata": {},
   "source": [
    "As you can see, on August 15, the lake is a bit more stratified, so that the allowed maximal wind speed is a bit larger to maintain the stable condition. \n",
    "\n",
    "When a storm with $U_{10} = 20$ m/s passed over the lake, let's calcualte the mixing classification.  "
   ]
  },
  {
   "cell_type": "code",
   "execution_count": 181,
   "id": "51ba3e87",
   "metadata": {},
   "outputs": [
    {
     "name": "stdout",
     "output_type": "stream",
     "text": [
      "Ri_* =  11.502217178058439\n",
      "L^2/(2h)^2 =  6400.0\n",
      "L/(2h) =  80.0\n"
     ]
    }
   ],
   "source": [
    "U10 = 20\n",
    "ustar = U10 * np.sqrt(Cd * rho_a/rho_m)\n",
    "Ri_star = g/rho_m * (rho_h - rho_e) * h_e / ustar**2\n",
    "print('Ri_* = ', Ri_star)\n",
    "print('L^2/(2h)^2 = ', (L/(2*h))**2)\n",
    "print('L/(2h) = ', L/(2*h))"
   ]
  },
  {
   "cell_type": "markdown",
   "id": "01965821",
   "metadata": {},
   "source": [
    "Based on this result, We found $1<Ri_*<L/(2h)$. This indicate that the thermocline will be diffuse and steeply inclined. Hence, a different type of temperature profile should be expected. "
   ]
  },
  {
   "cell_type": "markdown",
   "id": "e915a5c9",
   "metadata": {},
   "source": [
    "## Calculate lake seiche using two-layer method\n",
    "\n",
    "$T_{\\textrm{seiche}} = \\frac{2L}{\\sqrt{g^{\\prime}\\frac{h_1h_2}{h_1+h_2}}}$\n",
    "\n",
    "where $h_1$ is the epilimnion depth, and $h_2 = h-h_1$."
   ]
  },
  {
   "cell_type": "code",
   "execution_count": 175,
   "id": "e1341b99",
   "metadata": {},
   "outputs": [
    {
     "name": "stdout",
     "output_type": "stream",
     "text": [
      "Lake seiche =  0.23257922302207135 days\n"
     ]
    }
   ],
   "source": [
    "h1 = h_e\n",
    "h2 = h - h1\n",
    "gp = g * np.abs(g * (rho_h - rho_e)/rho_m)\n",
    "T = 2*L/np.sqrt(gp*(h1*h2/(h1+h2)))\n",
    "print('Lake seiche = ', T/3600/24, 'days')"
   ]
  },
  {
   "cell_type": "code",
   "execution_count": null,
   "id": "4dce3236",
   "metadata": {},
   "outputs": [],
   "source": []
  }
 ],
 "metadata": {
  "kernelspec": {
   "display_name": "Python 3 (ipykernel)",
   "language": "python",
   "name": "python3"
  },
  "language_info": {
   "codemirror_mode": {
    "name": "ipython",
    "version": 3
   },
   "file_extension": ".py",
   "mimetype": "text/x-python",
   "name": "python",
   "nbconvert_exporter": "python",
   "pygments_lexer": "ipython3",
   "version": "3.9.12"
  }
 },
 "nbformat": 4,
 "nbformat_minor": 5
}
