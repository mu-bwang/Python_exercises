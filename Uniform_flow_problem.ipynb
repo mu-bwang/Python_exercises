{
 "cells": [
  {
   "cell_type": "markdown",
   "id": "67c5fdcd",
   "metadata": {},
   "source": [
    "# Uniform flow problem - Manning's equation\n",
    "\n",
    "### (1) EXAMPLE 5.1.1 (Water Resources Engineering, Larry W. Mays)\n",
    "\n",
    "An 8‐ft wide rectangular channel with a bed slope of 0.0004 ft/ft has a depth of flow of 2 ft. Assuming steady uniform flow, determine the discharge in the channel. The Manning roughness coefficient is n = 0.015.\n",
    "\n",
    "### (2) EXAMPLE 5.1.3\n",
    "\n",
    "Determine the normal depth (for uniform flow) if the channel described in example 5.1.1 has a flow rate of 100 cfs."
   ]
  },
  {
   "cell_type": "markdown",
   "id": "941bc8d9",
   "metadata": {},
   "source": [
    "### Solution of 5.1.1: \n",
    "\n",
    "Using Manning's equation to solve 5.1.1:\n",
    "\n",
    "$Q = \\frac{1.49}{n} A R^{2/3} S_0^{1/2}$ where $Q$ is discharge, $n$ is Manning's coefficient, $R$ is hydraulic radius, $S_0$ is the slope of channel, 1.49 is the coefficient when using U.S. customary units."
   ]
  },
  {
   "cell_type": "code",
   "execution_count": 1,
   "id": "b7cde2e6",
   "metadata": {},
   "outputs": [],
   "source": [
    "S0 = 0.0004 # channel slope\n",
    "B = 8 # channel width\n",
    "y = 2 # normal depth\n",
    "n = 0.015 # Manning's coefficient"
   ]
  },
  {
   "cell_type": "code",
   "execution_count": 5,
   "id": "e63b07bb",
   "metadata": {},
   "outputs": [
    {
     "name": "stdout",
     "output_type": "stream",
     "text": [
      "Discharge at water depth of 2 ft is 38.50680438499397 cfs\n"
     ]
    }
   ],
   "source": [
    "A = y * B \n",
    "P = 2*y + B  # wetted perimeter\n",
    "R = A/P # rectangular channel\n",
    "Q = 1.49/n * A * R**(2/3) * S0**(1/2)\n",
    "print('Discharge at water depth of 2 ft is', Q, 'cfs')"
   ]
  },
  {
   "cell_type": "markdown",
   "id": "ec517343",
   "metadata": {},
   "source": [
    "### Solution of 5.1.3:\n",
    "\n",
    "In Example 5.1.3, we need to solve for nonlinear equation $Q = \\frac{1.49}{n} A R^{2/3} S_0^{1/2} = 100$ cfs. This equation can not be directly solved. We have to solve it iteratively. "
   ]
  },
  {
   "cell_type": "code",
   "execution_count": 24,
   "id": "b84f341c",
   "metadata": {},
   "outputs": [
    {
     "name": "stdout",
     "output_type": "stream",
     "text": [
      "Discharge at water depth of 4.000000000000002 ft is 100 cfs\n",
      "Error is 0.9163762104584094 cfs\n"
     ]
    }
   ],
   "source": [
    "# Method 1: Trial and error \n",
    "\n",
    "import numpy as np\n",
    "\n",
    "Qt = 100 # target Q\n",
    "dy = 0.1\n",
    "y = 2.0 # initial guess, since at y = 2 ft we have Q = 38.5 cfs, we need to guess a slightly larger value of y\n",
    "difference = 100\n",
    "threshold = 1\n",
    "while difference > threshold:\n",
    "    y = y + dy\n",
    "    A = y * B\n",
    "    P = 2*y + B\n",
    "    R = A/P\n",
    "    Q = 1.49/n * A * R**(2/3) * S0**(1/2)\n",
    "    difference = np.abs(Q-Qt)\n",
    "    \n",
    "print('Discharge at water depth of', y, 'ft is 100 cfs')\n",
    "print('Error is', difference, 'cfs')"
   ]
  },
  {
   "cell_type": "markdown",
   "id": "442e0e71",
   "metadata": {},
   "source": [
    "When you apply this method, you might find out that this method does not always work. It depends on your selection of $dy$ and the threshold. If you reduce threshold, the search may pass the target discharge, in which case, you end up with an endless loop. There is a method to check - we can plot the relationship between $y$ and $Q$."
   ]
  },
  {
   "cell_type": "code",
   "execution_count": 25,
   "id": "112a1d93",
   "metadata": {},
   "outputs": [
    {
     "data": {
      "text/plain": [
       "Text(0, 0.5, 'Q (cfs)')"
      ]
     },
     "execution_count": 25,
     "metadata": {},
     "output_type": "execute_result"
    },
    {
     "data": {
      "image/png": "[encoded data removed]",
      "text/plain": [
       "<Figure size 432x288 with 1 Axes>"
      ]
     },
     "metadata": {
      "needs_background": "light"
     },
     "output_type": "display_data"
    }
   ],
   "source": [
    "# Method 2: Plot the figure\n",
    "\n",
    "import matplotlib.pyplot as plt\n",
    "\n",
    "y = np.linspace(2,5) # select a resonable range\n",
    "A = y * B\n",
    "P = 2*y + B\n",
    "R = A/P\n",
    "Q = 1.49/n * A * R**(2/3) * S0**(1/2)\n",
    "\n",
    "plt.plot(y,Q)\n",
    "plt.grid(True)\n",
    "plt.xlabel('y (ft)')\n",
    "plt.ylabel('Q (cfs)')"
   ]
  },
  {
   "cell_type": "markdown",
   "id": "a31b0e52",
   "metadata": {},
   "source": [
    "From the above plot, you can see $y$ is slightly smaller than 4 ft when $Q = 100$ cfs.  \n",
    "\n",
    "In fact, the above nonlinear equation can be solved using root-finding methods with numerical calculations. To do that, we need to first write out the equation:\n",
    "\n",
    "$f(y) = \\frac{1.49}{n} B y \\left( \\frac{By}{B+2y}\\right)^{2/3}S_0^{1/2} - Q_t = 0$\n",
    "\n",
    "Plug in numbers, we have:\n",
    "$f(y) = 15.89y \\left( \\frac{8y}{8+2y} \\right)^{2/3}-100 = 0$\n",
    "\n",
    "The following code solves the root-finding problem using 'fsolve' function that is built-in in 'scipy' library. "
   ]
  },
  {
   "cell_type": "code",
   "execution_count": 29,
   "id": "6f88b6f6",
   "metadata": {},
   "outputs": [
    {
     "data": {
      "text/plain": [
       "array([3.97336342, 3.97336342])"
      ]
     },
     "execution_count": 29,
     "metadata": {},
     "output_type": "execute_result"
    }
   ],
   "source": [
    "# Method 3: Numerical method\n",
    "\n",
    "from scipy.optimize import fsolve\n",
    "\n",
    "f = lambda y: 15.89 * y * (8*y/ (8+2*y))**(2/3) - 100\n",
    "\n",
    "fsolve(f, [2, 80])"
   ]
  },
  {
   "cell_type": "markdown",
   "id": "892bc87c",
   "metadata": {},
   "source": [
    "The above code solve the equation and return two solutions. They are identical, which is the $y$ value we want to find. You can check the actural discharge: "
   ]
  },
  {
   "cell_type": "code",
   "execution_count": 33,
   "id": "bbe61ac8",
   "metadata": {},
   "outputs": [
    {
     "name": "stdout",
     "output_type": "stream",
     "text": [
      "100.02097755375904\n"
     ]
    }
   ],
   "source": [
    "y = fsolve(f, [2, 80])[0]\n",
    "A = y * B\n",
    "P = 2*y + B\n",
    "R = A/P\n",
    "Q = 1.49/n * A * R**(2/3) * S0**(1/2)\n",
    "print(Q)"
   ]
  },
  {
   "cell_type": "code",
   "execution_count": null,
   "id": "95673097",
   "metadata": {},
   "outputs": [],
   "source": []
  }
 ],
 "metadata": {
  "kernelspec": {
   "display_name": "Python 3 (ipykernel)",
   "language": "python",
   "name": "python3"
  },
  "language_info": {
   "codemirror_mode": {
    "name": "ipython",
    "version": 3
   },
   "file_extension": ".py",
   "mimetype": "text/x-python",
   "name": "python",
   "nbconvert_exporter": "python",
   "pygments_lexer": "ipython3",
   "version": "3.9.12"
  }
 },
 "nbformat": 4,
 "nbformat_minor": 5
}
