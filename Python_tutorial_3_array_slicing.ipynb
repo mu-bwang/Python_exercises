{
 "cells": [
  {
   "cell_type": "markdown",
   "id": "7e325b28",
   "metadata": {},
   "source": [
    "# Array slicing"
   ]
  },
  {
   "cell_type": "markdown",
   "id": "a92c23d8",
   "metadata": {},
   "source": [
    "## One-dimensional array slicing\n",
    "\n",
    "To access a slice of an array x, use this: x[start:stop:step]. By default, step is 1."
   ]
  },
  {
   "cell_type": "code",
   "execution_count": 22,
   "id": "6a23403d",
   "metadata": {},
   "outputs": [
    {
     "data": {
      "text/plain": [
       "array([0, 1, 2, 3, 4, 5, 6, 7, 8, 9])"
      ]
     },
     "execution_count": 22,
     "metadata": {},
     "output_type": "execute_result"
    }
   ],
   "source": [
    "import numpy as np\n",
    "a = np.arange(10)\n",
    "a"
   ]
  },
  {
   "cell_type": "code",
   "execution_count": 23,
   "id": "26f3c3d1",
   "metadata": {},
   "outputs": [
    {
     "data": {
      "text/plain": [
       "array([0, 1, 2, 3, 4])"
      ]
     },
     "execution_count": 23,
     "metadata": {},
     "output_type": "execute_result"
    }
   ],
   "source": [
    "# select first five element, index starts from 0\n",
    "b = a[0:5] \n",
    "b"
   ]
  },
  {
   "cell_type": "code",
   "execution_count": 24,
   "id": "18a0edef",
   "metadata": {},
   "outputs": [
    {
     "data": {
      "text/plain": [
       "array([0, 1, 2, 3, 4])"
      ]
     },
     "execution_count": 24,
     "metadata": {},
     "output_type": "execute_result"
    }
   ],
   "source": [
    "# you can drop 0\n",
    "b = b[:5]\n",
    "b"
   ]
  },
  {
   "cell_type": "code",
   "execution_count": 25,
   "id": "8676e2d9",
   "metadata": {},
   "outputs": [
    {
     "data": {
      "text/plain": [
       "array([5, 6, 7, 8, 9])"
      ]
     },
     "execution_count": 25,
     "metadata": {},
     "output_type": "execute_result"
    }
   ],
   "source": [
    "# select all element after index 5\n",
    "c = a[5:]\n",
    "c"
   ]
  },
  {
   "cell_type": "code",
   "execution_count": 26,
   "id": "4f3352c8",
   "metadata": {},
   "outputs": [
    {
     "data": {
      "text/plain": [
       "array([3, 4, 5])"
      ]
     },
     "execution_count": 26,
     "metadata": {},
     "output_type": "execute_result"
    }
   ],
   "source": [
    "# select middle elements, index starts from 3 and stops at 6 (not including the last index)\n",
    "d = a[3:6]\n",
    "d"
   ]
  },
  {
   "cell_type": "code",
   "execution_count": 27,
   "id": "588dbc69",
   "metadata": {},
   "outputs": [
    {
     "data": {
      "text/plain": [
       "array([0, 2, 4, 6, 8])"
      ]
     },
     "execution_count": 27,
     "metadata": {},
     "output_type": "execute_result"
    }
   ],
   "source": [
    "# select every other elements using step = 2\n",
    "e = a[::2]\n",
    "e"
   ]
  },
  {
   "cell_type": "code",
   "execution_count": 28,
   "id": "7160c2e5",
   "metadata": {},
   "outputs": [
    {
     "data": {
      "text/plain": [
       "array([9, 8, 7, 6, 5, 4, 3, 2, 1, 0])"
      ]
     },
     "execution_count": 28,
     "metadata": {},
     "output_type": "execute_result"
    }
   ],
   "source": [
    "# reverse the array\n",
    "f = a[::-1]\n",
    "f"
   ]
  },
  {
   "cell_type": "code",
   "execution_count": 31,
   "id": "569386c8",
   "metadata": {},
   "outputs": [
    {
     "data": {
      "text/plain": [
       "array([8, 6, 4, 2, 0])"
      ]
     },
     "execution_count": 31,
     "metadata": {},
     "output_type": "execute_result"
    }
   ],
   "source": [
    "# reverse every other from index 8\n",
    "g = a[8::-2]\n",
    "g"
   ]
  },
  {
   "cell_type": "markdown",
   "id": "2e72b6fe",
   "metadata": {},
   "source": [
    "## Two-dimensional array slicing\n",
    "\n",
    "Let's first use a function called 'reshape' to convert a one-dimensional array to a two-dimensional one. This is very useful when you dealing with two-dimensional data, i.e., a velocity field in a two-dimensional space."
   ]
  },
  {
   "cell_type": "code",
   "execution_count": 38,
   "id": "696b6402",
   "metadata": {},
   "outputs": [
    {
     "data": {
      "text/plain": [
       "array([[0, 1, 2, 3, 4],\n",
       "       [5, 6, 7, 8, 9]])"
      ]
     },
     "execution_count": 38,
     "metadata": {},
     "output_type": "execute_result"
    }
   ],
   "source": [
    "# Let's convert the one-dimensional array, a, into a 2*5 array, b.\n",
    "b = np.reshape(a,(2,5))\n",
    "b"
   ]
  },
  {
   "cell_type": "code",
   "execution_count": 39,
   "id": "78250362",
   "metadata": {},
   "outputs": [
    {
     "data": {
      "text/plain": [
       "array([[0, 1],\n",
       "       [2, 3],\n",
       "       [4, 5],\n",
       "       [6, 7],\n",
       "       [8, 9]])"
      ]
     },
     "execution_count": 39,
     "metadata": {},
     "output_type": "execute_result"
    }
   ],
   "source": [
    "# Try a 5*2 array\n",
    "c =np.reshape(a,(5,2))\n",
    "c"
   ]
  },
  {
   "cell_type": "code",
   "execution_count": 100,
   "id": "8a027698",
   "metadata": {},
   "outputs": [
    {
     "data": {
      "text/plain": [
       "array([[ 0,  1,  2,  3],\n",
       "       [ 4,  5,  6,  7],\n",
       "       [ 8,  9, 10, 11],\n",
       "       [12, 13, 14, 15]])"
      ]
     },
     "execution_count": 100,
     "metadata": {},
     "output_type": "execute_result"
    }
   ],
   "source": [
    "# Let's work on a 4 by 4 array\n",
    "a = np.reshape(np.arange(16),(4,4))\n",
    "a"
   ]
  },
  {
   "cell_type": "code",
   "execution_count": 43,
   "id": "0be22e74",
   "metadata": {},
   "outputs": [
    {
     "data": {
      "text/plain": [
       "array([[0, 1, 2],\n",
       "       [4, 5, 6]])"
      ]
     },
     "execution_count": 43,
     "metadata": {},
     "output_type": "execute_result"
    }
   ],
   "source": [
    "# Slice first two rows and first three columns\n",
    "b = a[:2,:3]\n",
    "b"
   ]
  },
  {
   "cell_type": "code",
   "execution_count": 45,
   "id": "06ba2a77",
   "metadata": {},
   "outputs": [
    {
     "data": {
      "text/plain": [
       "array([[ 0,  2],\n",
       "       [ 8, 10]])"
      ]
     },
     "execution_count": 45,
     "metadata": {},
     "output_type": "execute_result"
    }
   ],
   "source": [
    "# Down-sampling: slice every other element in both row and column\n",
    "c = a[::2,::2]\n",
    "c"
   ]
  },
  {
   "cell_type": "code",
   "execution_count": 46,
   "id": "037fcf2e",
   "metadata": {},
   "outputs": [
    {
     "data": {
      "text/plain": [
       "array([[ 0,  1,  2,  3],\n",
       "       [ 8,  9, 10, 11]])"
      ]
     },
     "execution_count": 46,
     "metadata": {},
     "output_type": "execute_result"
    }
   ],
   "source": [
    "# Down-sampling on rows only, keep the same columns\n",
    "d = a[::2,]\n",
    "d"
   ]
  },
  {
   "cell_type": "code",
   "execution_count": 47,
   "id": "40b75dcc",
   "metadata": {},
   "outputs": [
    {
     "data": {
      "text/plain": [
       "array([[15, 14, 13, 12],\n",
       "       [11, 10,  9,  8],\n",
       "       [ 7,  6,  5,  4],\n",
       "       [ 3,  2,  1,  0]])"
      ]
     },
     "execution_count": 47,
     "metadata": {},
     "output_type": "execute_result"
    }
   ],
   "source": [
    "# reverse rows and columns\n",
    "e = a[::-1, ::-1]\n",
    "e"
   ]
  },
  {
   "cell_type": "code",
   "execution_count": 49,
   "id": "8061f58c",
   "metadata": {},
   "outputs": [
    {
     "data": {
      "text/plain": [
       "array([[ 3,  2,  1,  0],\n",
       "       [ 7,  6,  5,  4],\n",
       "       [11, 10,  9,  8],\n",
       "       [15, 14, 13, 12]])"
      ]
     },
     "execution_count": 49,
     "metadata": {},
     "output_type": "execute_result"
    }
   ],
   "source": [
    "# reverse column only, i.e., flip left and right \n",
    "f = a[:,::-1]\n",
    "f"
   ]
  },
  {
   "cell_type": "code",
   "execution_count": 52,
   "id": "d54a0b5e",
   "metadata": {},
   "outputs": [
    {
     "data": {
      "text/plain": [
       "array([[12, 13, 14, 15],\n",
       "       [ 8,  9, 10, 11],\n",
       "       [ 4,  5,  6,  7],\n",
       "       [ 0,  1,  2,  3]])"
      ]
     },
     "execution_count": 52,
     "metadata": {},
     "output_type": "execute_result"
    }
   ],
   "source": [
    "# flip upside down\n",
    "g = a[::-1,]\n",
    "g"
   ]
  },
  {
   "cell_type": "code",
   "execution_count": 53,
   "id": "248eac2f",
   "metadata": {},
   "outputs": [
    {
     "data": {
      "text/plain": [
       "array([[12, 13, 14, 15,  8,  9, 10, 11],\n",
       "       [ 4,  5,  6,  7,  0,  1,  2,  3]])"
      ]
     },
     "execution_count": 53,
     "metadata": {},
     "output_type": "execute_result"
    }
   ],
   "source": [
    "# You can also reshape a 2-D array to a different 2-D array\n",
    "g2 = np.reshape(g,(2,8))\n",
    "g2"
   ]
  },
  {
   "cell_type": "markdown",
   "id": "5845ae21",
   "metadata": {},
   "source": [
    "## Dealing with common data issues\n",
    "\n",
    "Let's generate a 2D array and throw some zeros in there. Imaging these zeros are invalid data and represent no values. So we want to find them out and replace them using NaN, not-a-nubmer."
   ]
  },
  {
   "cell_type": "code",
   "execution_count": 108,
   "id": "cc554e82",
   "metadata": {},
   "outputs": [
    {
     "data": {
      "text/plain": [
       "array([[ 8.18181818,  1.        ,  2.        ,  3.        ],\n",
       "       [ 4.        ,  0.        ,  0.        ,  7.        ],\n",
       "       [ 8.        ,  0.        ,  0.        , 11.        ],\n",
       "       [12.        , 13.        , 14.        , 15.        ]])"
      ]
     },
     "execution_count": 108,
     "metadata": {},
     "output_type": "execute_result"
    }
   ],
   "source": [
    "# Let's manually change some elements in a\n",
    "a[1:3,1:3] = 0\n",
    "a"
   ]
  },
  {
   "cell_type": "markdown",
   "id": "c323f44f",
   "metadata": {},
   "source": [
    "In above example, we found five zeros, they are a(0,0), a(1,1), a(1,2), a(2,1), and a(2,2)"
   ]
  },
  {
   "cell_type": "code",
   "execution_count": 105,
   "id": "7e068733",
   "metadata": {},
   "outputs": [
    {
     "data": {
      "text/plain": [
       "array([[nan,  1.,  2.,  3.],\n",
       "       [ 4., nan, nan,  7.],\n",
       "       [ 8., nan, nan, 11.],\n",
       "       [12., 13., 14., 15.]])"
      ]
     },
     "execution_count": 105,
     "metadata": {},
     "output_type": "execute_result"
    }
   ],
   "source": [
    "# To change them to NaN, You can simple do this:\n",
    "a = a.astype('float') # we should first change the integer array to a float type. \n",
    "a[a==0] = np.nan\n",
    "a"
   ]
  },
  {
   "cell_type": "code",
   "execution_count": 106,
   "id": "f79e69b7",
   "metadata": {},
   "outputs": [
    {
     "data": {
      "text/plain": [
       "array([[ 8.18181818,  1.        ,  2.        ,  3.        ],\n",
       "       [ 4.        ,  8.18181818,  8.18181818,  7.        ],\n",
       "       [ 8.        ,  8.18181818,  8.18181818, 11.        ],\n",
       "       [12.        , 13.        , 14.        , 15.        ]])"
      ]
     },
     "execution_count": 106,
     "metadata": {},
     "output_type": "execute_result"
    }
   ],
   "source": [
    "# Now, let's change nan to the mean value of all elements that have values\n",
    "a[np.isnan(a)] = a[~np.isnan(a)].mean()\n",
    "a"
   ]
  },
  {
   "cell_type": "markdown",
   "id": "84d05e7a",
   "metadata": {},
   "source": [
    "### Use 'np.where'\n",
    "\n",
    "We can also use 'np.where' to find out which elements are zero, the returned two arrays are the indices of row and column."
   ]
  },
  {
   "cell_type": "code",
   "execution_count": 114,
   "id": "968e22f4",
   "metadata": {},
   "outputs": [
    {
     "data": {
      "text/plain": [
       "array([[-0.42814115,  0.83712754, -0.14238948, -2.63254217],\n",
       "       [ 0.93312466,  2.28220068,  2.05696813,  0.63603726],\n",
       "       [ 1.20064713,  1.39666133,  0.4557124 ,  0.90969731],\n",
       "       [ 1.48170748, -0.0399394 ,  0.70740673,  0.80910848]])"
      ]
     },
     "execution_count": 114,
     "metadata": {},
     "output_type": "execute_result"
    }
   ],
   "source": [
    "a = np.random.randn(4,4)\n",
    "a"
   ]
  },
  {
   "cell_type": "code",
   "execution_count": 115,
   "id": "0a0cf457",
   "metadata": {},
   "outputs": [
    {
     "data": {
      "text/plain": [
       "array([[0.        , 0.83712754, 0.        , 0.        ],\n",
       "       [0.93312466, 2.28220068, 2.05696813, 0.63603726],\n",
       "       [1.20064713, 1.39666133, 0.4557124 , 0.90969731],\n",
       "       [1.48170748, 0.        , 0.70740673, 0.80910848]])"
      ]
     },
     "execution_count": 115,
     "metadata": {},
     "output_type": "execute_result"
    }
   ],
   "source": [
    "a[a<0] = 0\n",
    "a"
   ]
  },
  {
   "cell_type": "code",
   "execution_count": 116,
   "id": "3683ffa8",
   "metadata": {},
   "outputs": [
    {
     "data": {
      "text/plain": [
       "(array([0, 0, 0, 3]), array([0, 2, 3, 1]))"
      ]
     },
     "execution_count": 116,
     "metadata": {},
     "output_type": "execute_result"
    }
   ],
   "source": [
    "np.where(a==0)"
   ]
  },
  {
   "cell_type": "code",
   "execution_count": 119,
   "id": "5a22acc7",
   "metadata": {},
   "outputs": [
    {
     "data": {
      "text/plain": [
       "array([[       nan, 0.83712754,        nan,        nan],\n",
       "       [0.93312466, 2.28220068, 2.05696813, 0.63603726],\n",
       "       [1.20064713, 1.39666133, 0.4557124 , 0.90969731],\n",
       "       [1.48170748,        nan, 0.70740673, 0.80910848]])"
      ]
     },
     "execution_count": 119,
     "metadata": {},
     "output_type": "execute_result"
    }
   ],
   "source": [
    "b = np.where(a==0, np.nan, a) # np.nan is used to replace elements with a==0, otherwise, use the value of a itself\n",
    "b"
   ]
  },
  {
   "cell_type": "code",
   "execution_count": 120,
   "id": "5857041e",
   "metadata": {},
   "outputs": [
    {
     "data": {
      "text/plain": [
       "array([[0.        , 0.83712754, 0.        , 0.        ],\n",
       "       [0.93312466, 2.28220068, 2.05696813, 0.63603726],\n",
       "       [1.20064713, 1.39666133, 0.4557124 , 0.90969731],\n",
       "       [1.48170748, 0.        , 0.70740673, 0.80910848]])"
      ]
     },
     "execution_count": 120,
     "metadata": {},
     "output_type": "execute_result"
    }
   ],
   "source": [
    "a"
   ]
  },
  {
   "cell_type": "markdown",
   "id": "07068f9f",
   "metadata": {},
   "source": [
    "## Working on non-zero elements"
   ]
  },
  {
   "cell_type": "code",
   "execution_count": 121,
   "id": "9889b32b",
   "metadata": {},
   "outputs": [
    {
     "data": {
      "text/plain": [
       "1.1421999269746124"
      ]
     },
     "execution_count": 121,
     "metadata": {},
     "output_type": "execute_result"
    }
   ],
   "source": [
    "a[np.nonzero(a)].mean()"
   ]
  },
  {
   "cell_type": "code",
   "execution_count": 122,
   "id": "23fc6703",
   "metadata": {},
   "outputs": [
    {
     "data": {
      "text/plain": [
       "1.1421999269746124"
      ]
     },
     "execution_count": 122,
     "metadata": {},
     "output_type": "execute_result"
    }
   ],
   "source": [
    "a[a!=0].mean()"
   ]
  },
  {
   "cell_type": "markdown",
   "id": "5e2f3bb7",
   "metadata": {},
   "source": [
    "## Workig on non-nan elements"
   ]
  },
  {
   "cell_type": "code",
   "execution_count": 137,
   "id": "cbf6d087",
   "metadata": {},
   "outputs": [
    {
     "data": {
      "text/plain": [
       "array([[ True, False,  True,  True],\n",
       "       [False, False, False, False],\n",
       "       [False, False, False, False],\n",
       "       [False,  True, False, False]])"
      ]
     },
     "execution_count": 137,
     "metadata": {},
     "output_type": "execute_result"
    }
   ],
   "source": [
    "np.isnan(b)"
   ]
  },
  {
   "cell_type": "code",
   "execution_count": 123,
   "id": "ce9e4584",
   "metadata": {},
   "outputs": [
    {
     "data": {
      "text/plain": [
       "1.1421999269746124"
      ]
     },
     "execution_count": 123,
     "metadata": {},
     "output_type": "execute_result"
    }
   ],
   "source": [
    "np.nanmean(b)"
   ]
  },
  {
   "cell_type": "code",
   "execution_count": 128,
   "id": "dc9e711f",
   "metadata": {},
   "outputs": [
    {
     "data": {
      "text/plain": [
       "0.9214109824071337"
      ]
     },
     "execution_count": 128,
     "metadata": {},
     "output_type": "execute_result"
    }
   ],
   "source": [
    "np.nanmedian(b)"
   ]
  },
  {
   "cell_type": "code",
   "execution_count": 136,
   "id": "c683039a",
   "metadata": {},
   "outputs": [
    {
     "data": {
      "text/plain": [
       "array([1.20515976, 1.50532985, 1.07336242, 0.78494768])"
      ]
     },
     "execution_count": 136,
     "metadata": {},
     "output_type": "execute_result"
    }
   ],
   "source": [
    "# Take mean along the columns\n",
    "np.nanmean(b,axis=0)"
   ]
  },
  {
   "cell_type": "code",
   "execution_count": 135,
   "id": "b67c65fd",
   "metadata": {},
   "outputs": [
    {
     "data": {
      "text/plain": [
       "array([0.83712754, 1.47708268, 0.99067954, 0.99940756])"
      ]
     },
     "execution_count": 135,
     "metadata": {},
     "output_type": "execute_result"
    }
   ],
   "source": [
    "# Take mean aong the rows\n",
    "np.nanmean(b,axis=1)"
   ]
  },
  {
   "cell_type": "code",
   "execution_count": null,
   "id": "dff3c287",
   "metadata": {},
   "outputs": [],
   "source": []
  }
 ],
 "metadata": {
  "kernelspec": {
   "display_name": "Python 3 (ipykernel)",
   "language": "python",
   "name": "python3"
  },
  "language_info": {
   "codemirror_mode": {
    "name": "ipython",
    "version": 3
   },
   "file_extension": ".py",
   "mimetype": "text/x-python",
   "name": "python",
   "nbconvert_exporter": "python",
   "pygments_lexer": "ipython3",
   "version": "3.9.12"
  }
 },
 "nbformat": 4,
 "nbformat_minor": 5
}
