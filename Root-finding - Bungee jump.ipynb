{
 "cells": [
  {
   "cell_type": "markdown",
   "id": "3b0c89e5",
   "metadata": {},
   "source": [
    "# Bungee jump problem -  Root finding example"
   ]
  },
  {
   "cell_type": "markdown",
   "id": "c96d970b",
   "metadata": {},
   "source": [
    "The analytical solution for the Bungee jump problem is:\n",
    "\n",
    "$v(t) = \\sqrt{\\frac{gm}{C_d}} \\tanh \\left( \\sqrt{\\frac{gC_d}{m}} t \\right)$\n",
    "\n",
    "where $v(t)$ is velocity as a function of time $t$, $C_d$ is drag coefficient, $m$ is mass, $g$ is gravitational acceleration."
   ]
  },
  {
   "cell_type": "markdown",
   "id": "01ae94c2",
   "metadata": {},
   "source": [
    "Question: given $g = 9.81$ m/s$^2$, $C_d = 0.25$ kg/m. At $t = 4$ s, velocity $v = 36$ m/s. Find $m$."
   ]
  },
  {
   "cell_type": "markdown",
   "id": "a4a664b3",
   "metadata": {},
   "source": [
    "Solution: We can convert this to a root finding problem $f(x) = 0$:\n",
    "\n",
    "$f(m) = \\sqrt{\\frac{gm}{C_d}} \\tanh \\left( \\sqrt{\\frac{gC_d}{m}} t \\right) - v = 0$"
   ]
  },
  {
   "cell_type": "code",
   "execution_count": 41,
   "id": "8d0606fc",
   "metadata": {},
   "outputs": [],
   "source": [
    "g = 9.81  \n",
    "Cd = 0.25 \n",
    "t = 4\n",
    "v = 36"
   ]
  },
  {
   "cell_type": "markdown",
   "id": "a1c2360e",
   "metadata": {},
   "source": [
    "## Bisection Method\n",
    "\n",
    "You can find the details of Bisection method here: https://pythonnumericalmethods.berkeley.edu/notebooks/chapter19.03-Bisection-Method.html"
   ]
  },
  {
   "cell_type": "code",
   "execution_count": 42,
   "id": "9b33b3ed",
   "metadata": {},
   "outputs": [],
   "source": [
    "import numpy as np\n",
    "\n",
    "f = lambda m: (g*m/Cd)**0.5 * np.tanh((g*Cd/m)**0.5 * t) - v"
   ]
  },
  {
   "cell_type": "markdown",
   "id": "7e311b38",
   "metadata": {},
   "source": [
    "## (1) Hand calucation\n",
    "\n",
    "Step 1: Guess two values that give one negative and one positive solution, say, $m_l$ = 100, and $m_u$ = 200"
   ]
  },
  {
   "cell_type": "code",
   "execution_count": 43,
   "id": "e20f6315",
   "metadata": {},
   "outputs": [
    {
     "name": "stdout",
     "output_type": "stream",
     "text": [
      "f(ml) = -1.1973800012119113\n",
      "f(mu) = 0.8602906131757351\n"
     ]
    }
   ],
   "source": [
    "ml, mu = 100, 200\n",
    "print('f(ml) =',f(ml))\n",
    "print('f(mu) =',f(mu))"
   ]
  },
  {
   "cell_type": "markdown",
   "id": "4ae7a7f4",
   "metadata": {},
   "source": [
    "Step 2: Now, we update the root as the average of these two values ($m_{mid}$) and check the function $f(m_{mid})$"
   ]
  },
  {
   "cell_type": "code",
   "execution_count": 44,
   "id": "93b8eea8",
   "metadata": {},
   "outputs": [
    {
     "name": "stdout",
     "output_type": "stream",
     "text": [
      "0.14204303065125146\n"
     ]
    }
   ],
   "source": [
    "m_mid = (ml + mu )/2\n",
    "print(f(m_mid))"
   ]
  },
  {
   "cell_type": "markdown",
   "id": "582e586c",
   "metadata": {},
   "source": [
    "Because $f(m_{mid})$ is positve, we can use m_mid to replace $m_r$ and repeat step 2"
   ]
  },
  {
   "cell_type": "code",
   "execution_count": 45,
   "id": "1c250060",
   "metadata": {},
   "outputs": [
    {
     "name": "stdout",
     "output_type": "stream",
     "text": [
      "-0.40860146335501213\n"
     ]
    }
   ],
   "source": [
    "mu = m_mid\n",
    "m_mid = (ml + mu )/2\n",
    "print(f(m_mid))"
   ]
  },
  {
   "cell_type": "markdown",
   "id": "03842a64",
   "metadata": {},
   "source": [
    "Now, the new $f(m_{mid})$ is negative, we will use $m_mid$ to replace $m_l$ in the next iteration"
   ]
  },
  {
   "cell_type": "code",
   "execution_count": 46,
   "id": "e932bd60",
   "metadata": {},
   "outputs": [
    {
     "name": "stdout",
     "output_type": "stream",
     "text": [
      "-0.11080406285225308\n"
     ]
    }
   ],
   "source": [
    "ml = m_mid\n",
    "m_mid = (ml + mu )/2\n",
    "print(f(m_mid))"
   ]
  },
  {
   "cell_type": "markdown",
   "id": "48830cc8",
   "metadata": {},
   "source": [
    "Do this again. "
   ]
  },
  {
   "cell_type": "code",
   "execution_count": 47,
   "id": "037155c2",
   "metadata": {},
   "outputs": [
    {
     "name": "stdout",
     "output_type": "stream",
     "text": [
      "m is 143.75 kg; f(m) is 0.02057713074902523\n"
     ]
    }
   ],
   "source": [
    "ml = m_mid\n",
    "m_mid = (ml + mu )/2\n",
    "print('m is', m_mid, 'kg; f(m) is', f(m_mid))"
   ]
  },
  {
   "cell_type": "markdown",
   "id": "34abebfd",
   "metadata": {},
   "source": [
    "Now, f(m_mid) is quite small, and we can stop here for a hand calculation. For computer to do the same job, we need to set an accepted error to stop the iterations. "
   ]
  },
  {
   "cell_type": "markdown",
   "id": "49ec010f",
   "metadata": {},
   "source": [
    "## (2) Use a function\n",
    "\n",
    "Let's use a function to process this for us. In the function, we need four input parameters: (1) the root-finding function, (2) left point, (3) right point, and (4) a tolerance for error "
   ]
  },
  {
   "cell_type": "code",
   "execution_count": 48,
   "id": "c624d0e6",
   "metadata": {},
   "outputs": [],
   "source": [
    "def my_bisection(f, a, b, tol): \n",
    "    # approximates a root, R, of f bounded \n",
    "    # by a and b to within tolerance \n",
    "    # | f(m) | < tol with m the midpoint \n",
    "    # between a and b Recursive implementation\n",
    "    \n",
    "    # check if a and b bound a root\n",
    "    if np.sign(f(a)) == np.sign(f(b)):\n",
    "        raise Exception(\n",
    "         \"The scalars a and b do not bound a root\")\n",
    "        \n",
    "    # get midpoint\n",
    "    m = (a + b)/2\n",
    "    \n",
    "    if np.abs(f(m)) < tol:\n",
    "        # stopping condition, report m as root\n",
    "        return m\n",
    "    elif np.sign(f(a)) == np.sign(f(m)):\n",
    "        # case where m is an improvement on a. \n",
    "        # Make recursive call with a = m\n",
    "        return my_bisection(f, m, b, tol)\n",
    "    elif np.sign(f(b)) == np.sign(f(m)):\n",
    "        # case where m is an improvement on b. \n",
    "        # Make recursive call with b = m\n",
    "        return my_bisection(f, a, m, tol)"
   ]
  },
  {
   "cell_type": "markdown",
   "id": "2af7b517",
   "metadata": {},
   "source": [
    "We can use the same initial guess and obtain the root using above function."
   ]
  },
  {
   "cell_type": "code",
   "execution_count": 38,
   "id": "5b28b70a",
   "metadata": {},
   "outputs": [
    {
     "name": "stdout",
     "output_type": "stream",
     "text": [
      "m =  142.96875 kg; f(m) =  0.00472076784640052\n"
     ]
    }
   ],
   "source": [
    "m = my_bisection(f, 100, 200, 0.01)\n",
    "print('m = ', m, 'kg; f(m) = ', f(m))"
   ]
  },
  {
   "cell_type": "markdown",
   "id": "67cce654",
   "metadata": {},
   "source": [
    "Using bisection method, it is critical to choose correct inital guess values. For instace, guessing 50 and 100 will not return a good calcuation."
   ]
  },
  {
   "cell_type": "code",
   "execution_count": 40,
   "id": "0dbc1dec",
   "metadata": {},
   "outputs": [
    {
     "ename": "Exception",
     "evalue": "The scalars a and b do not bound a root",
     "output_type": "error",
     "traceback": [
      "\u001b[0;31m---------------------------------------------------------------------------\u001b[0m",
      "\u001b[0;31mException\u001b[0m                                 Traceback (most recent call last)",
      "Input \u001b[0;32mIn [40]\u001b[0m, in \u001b[0;36m<cell line: 1>\u001b[0;34m()\u001b[0m\n\u001b[0;32m----> 1\u001b[0m \u001b[43mmy_bisection\u001b[49m\u001b[43m(\u001b[49m\u001b[43mf\u001b[49m\u001b[43m,\u001b[49m\u001b[43m \u001b[49m\u001b[38;5;241;43m50\u001b[39;49m\u001b[43m,\u001b[49m\u001b[43m \u001b[49m\u001b[38;5;241;43m100\u001b[39;49m\u001b[43m,\u001b[49m\u001b[43m \u001b[49m\u001b[38;5;241;43m0.01\u001b[39;49m\u001b[43m)\u001b[49m\n",
      "Input \u001b[0;32mIn [34]\u001b[0m, in \u001b[0;36mmy_bisection\u001b[0;34m(f, a, b, tol)\u001b[0m\n\u001b[1;32m      1\u001b[0m \u001b[38;5;28;01mdef\u001b[39;00m \u001b[38;5;21mmy_bisection\u001b[39m(f, a, b, tol): \n\u001b[1;32m      2\u001b[0m     \u001b[38;5;66;03m# approximates a root, R, of f bounded \u001b[39;00m\n\u001b[1;32m      3\u001b[0m     \u001b[38;5;66;03m# by a and b to within tolerance \u001b[39;00m\n\u001b[0;32m   (...)\u001b[0m\n\u001b[1;32m      6\u001b[0m     \n\u001b[1;32m      7\u001b[0m     \u001b[38;5;66;03m# check if a and b bound a root\u001b[39;00m\n\u001b[1;32m      8\u001b[0m     \u001b[38;5;28;01mif\u001b[39;00m np\u001b[38;5;241m.\u001b[39msign(f(a)) \u001b[38;5;241m==\u001b[39m np\u001b[38;5;241m.\u001b[39msign(f(b)):\n\u001b[0;32m----> 9\u001b[0m         \u001b[38;5;28;01mraise\u001b[39;00m \u001b[38;5;167;01mException\u001b[39;00m(\n\u001b[1;32m     10\u001b[0m          \u001b[38;5;124m\"\u001b[39m\u001b[38;5;124mThe scalars a and b do not bound a root\u001b[39m\u001b[38;5;124m\"\u001b[39m)\n\u001b[1;32m     12\u001b[0m     \u001b[38;5;66;03m# get midpoint\u001b[39;00m\n\u001b[1;32m     13\u001b[0m     m \u001b[38;5;241m=\u001b[39m (a \u001b[38;5;241m+\u001b[39m b)\u001b[38;5;241m/\u001b[39m\u001b[38;5;241m2\u001b[39m\n",
      "\u001b[0;31mException\u001b[0m: The scalars a and b do not bound a root"
     ]
    }
   ],
   "source": [
    "my_bisection(f, 50, 100, 0.01)"
   ]
  },
  {
   "cell_type": "markdown",
   "id": "2f5d575d",
   "metadata": {},
   "source": [
    "## False-position method\n",
    "\n",
    "Bisection method is a brute force method and makes no use of information about the function itself. False-position method is a different method to find the new guess that uses the function and may converge more quickly than bisection method. Here is explaination of the false-position method: https://mathworld.wolfram.com/MethodofFalsePosition.html \n",
    "\n",
    "Keep in mind: in this method, the only difference is the equation to calucate new root:\n",
    "\n",
    "In stead of using $x_r = (x_l + x_u)/2$, the new equation is used:\n",
    "\n",
    "$x_r = x_u - \\frac{f(x_u)(x_l-x_u)}{f(x_l)-f(x_u)}$"
   ]
  },
  {
   "cell_type": "code",
   "execution_count": 86,
   "id": "696b9a07",
   "metadata": {},
   "outputs": [],
   "source": [
    "def falsi(f, a, b, tol, iter_max):\n",
    "    if f(a) * f(b) > 0:\n",
    "        raise Exception(\n",
    "         \"The scalars a and b do not bound a root\")\n",
    "\n",
    "    for i in range(iter_max):  \n",
    "        c = b - f(b)*(a-b)/(f(a)-f(b))\n",
    "        if i>0:           \n",
    "            error = np.abs(c-c_old)\n",
    "            if error < tol:\n",
    "                print('solution converged')\n",
    "                break\n",
    "                       \n",
    "        if f(c) == 0.0:\n",
    "            print('exact solution found')\n",
    "            break\n",
    "        if f(a) * f(c) < 0:\n",
    "            b = c\n",
    "        else:\n",
    "            a = c\n",
    "        \n",
    "        c_old = c\n",
    "        \n",
    "        if i == iter_max - 1:\n",
    "            print('solution not converged, maximal iteration finished')\n",
    "              \n",
    "    return c"
   ]
  },
  {
   "cell_type": "code",
   "execution_count": 88,
   "id": "7dfc1c02",
   "metadata": {},
   "outputs": [
    {
     "name": "stdout",
     "output_type": "stream",
     "text": [
      "solution converged\n"
     ]
    },
    {
     "data": {
      "text/plain": [
       "142.73924463697608"
      ]
     },
     "execution_count": 88,
     "metadata": {},
     "output_type": "execute_result"
    }
   ],
   "source": [
    "falsi(f, 100, 200, 0.01, 100)"
   ]
  },
  {
   "cell_type": "code",
   "execution_count": null,
   "id": "102c8988",
   "metadata": {},
   "outputs": [],
   "source": []
  }
 ],
 "metadata": {
  "kernelspec": {
   "display_name": "Python 3 (ipykernel)",
   "language": "python",
   "name": "python3"
  },
  "language_info": {
   "codemirror_mode": {
    "name": "ipython",
    "version": 3
   },
   "file_extension": ".py",
   "mimetype": "text/x-python",
   "name": "python",
   "nbconvert_exporter": "python",
   "pygments_lexer": "ipython3",
   "version": "3.9.12"
  }
 },
 "nbformat": 4,
 "nbformat_minor": 5
}
