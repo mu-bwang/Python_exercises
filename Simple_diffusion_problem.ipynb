{
 "cells": [
  {
   "cell_type": "markdown",
   "id": "41e24d8e",
   "metadata": {},
   "source": [
    "## A simple diffusion problem\n",
    "\n",
    "This problem is from Dr. Scott Socolofsky's EFM problem dictionary \n"
   ]
  },
  {
   "cell_type": "code",
   "execution_count": 1,
   "id": "4b17bf9b",
   "metadata": {},
   "outputs": [],
   "source": [
    "import numpy as np\n",
    "import matplotlib.pyplot as plt"
   ]
  },
  {
   "cell_type": "markdown",
   "id": "ec867935",
   "metadata": {},
   "source": [
    "### Data"
   ]
  },
  {
   "cell_type": "code",
   "execution_count": 5,
   "id": "8c31f42a",
   "metadata": {},
   "outputs": [],
   "source": [
    "r = 5e-2; # m\n",
    "t = np.arange(0.5, 10.5, 0.5)  # day\n",
    "t_sec = t*24*3600; # convert to second\n",
    "c = np.array([0.02, 0.5, 2.08, 3.66, 4.81, 5.5, 5.8, 5.91, 5.81, 5.7, \n",
    "    5.54, 5.28, 5.05, 4.87, 4.65, 4.4, 4.24, 4, 3.84, 3.66])"
   ]
  },
  {
   "cell_type": "markdown",
   "id": "67dec491",
   "metadata": {},
   "source": [
    "First, let's plot the data directly."
   ]
  },
  {
   "cell_type": "code",
   "execution_count": 11,
   "id": "b6171527",
   "metadata": {},
   "outputs": [
    {
     "data": {
      "text/plain": [
       "Text(0, 0.5, 'C ($\\\\mu g/cm^3$)')"
      ]
     },
     "execution_count": 11,
     "metadata": {},
     "output_type": "execute_result"
    },
    {
     "data": {
      "image/png": "[encoded data removed]",
      "text/plain": [
       "<Figure size 432x288 with 1 Axes>"
      ]
     },
     "metadata": {
      "needs_background": "light"
     },
     "output_type": "display_data"
    }
   ],
   "source": [
    "plt.plot(t,c,'o-')\n",
    "plt.xlabel('t (Day)')\n",
    "plt.ylabel(r'C ($\\mu g/cm^3$)')"
   ]
  },
  {
   "attachments": {},
   "cell_type": "markdown",
   "id": "8c927f08",
   "metadata": {},
   "source": [
    "The curve is apparently not linear. Hence, we need to manipulate the data to obtain a linear relationship. From the theory of diffusion, we understand that the solution of three-dimensional point-source diffusion is:\n",
    "\n",
    "$C = \\frac{M}{(4\\pi D t)^{3/2}} \\exp \\left( -\\frac{r^2}{4Dt} \\right)$\n",
    "\n",
    "where $C$ is concentration, $t$ is time, $r$ is distance from the point source, and $D$ is the diffusion coefficient. Hence, we can manipulate the equation: \n",
    "\n",
    "$\\exp\\left( -\\frac{r^2}{4Dt}\\right) = \\frac{C}{M}(4\\pi D t)^{3/2}$\n",
    "\n",
    "$-\\frac{r^2}{4Dt} = \\ln\\left(\\frac{C}{M} (4\\pi D t)^{3/2} \\right)$\n",
    "\n",
    "$-\\frac{r^2}{4t} = D \\ln\\left(\\frac{C}{M} (4\\pi D t)^{3/2} \\right)$\n",
    "\n",
    "$-\\frac{r^2}{4t} = D \\ln\\left(Ct^{3/2} \\right) + D \\ln\\left( \\frac{(4\\pi D)^{3/2}}{M}\\right)$\n",
    "\n",
    "The above equation is a linear function between variables $-r^2/(4t)$ and $\\ln(Ct^{3/2})$. Therefore, we can plot these two variables. By doing a linear regession, we can find the diffusion coefficient (the slope of the linear fitted line) "
   ]
  },
  {
   "cell_type": "code",
   "execution_count": 12,
   "id": "9eff21d4",
   "metadata": {},
   "outputs": [],
   "source": [
    "x = np.log(c*t**1.5);\n",
    "y = -r**2/(4*t);"
   ]
  },
  {
   "cell_type": "code",
   "execution_count": 22,
   "id": "07568345",
   "metadata": {},
   "outputs": [
    {
     "name": "stdout",
     "output_type": "stream",
     "text": [
      "D is 0.000118 cm^2/s\n"
     ]
    },
    {
     "data": {
      "image/png": "[encoded data removed]",
      "text/plain": [
       "<Figure size 432x288 with 1 Axes>"
      ]
     },
     "metadata": {
      "needs_background": "light"
     },
     "output_type": "display_data"
    }
   ],
   "source": [
    "plt.plot(x,y,'o')\n",
    "m,b = np.polyfit(x, y, 1)\n",
    "plt.plot(x, m*x+b)\n",
    "plt.xlabel(r'$\\log(ct^{1.5})$')\n",
    "plt.ylabel(r'$-r^2/(4t)$');\n",
    "print('D is %f cm^2/s' %m)"
   ]
  },
  {
   "attachments": {},
   "cell_type": "markdown",
   "id": "7fd3c2fd",
   "metadata": {},
   "source": [
    "We can see from the data that the diffusion process is slow. Therefore, measurement of time is not very sensitive, compared with measurement of concentration. In another word, errors in time measurements are not as important as errors in concentration measurements. \n",
    "\n",
    "From the second plot, it is clearly seen that more data points may be needed in the large stage. Hence, increasing the measurement frequency in the beginning of the experiment will be helpful. \n"
   ]
  },
  {
   "cell_type": "code",
   "execution_count": null,
   "id": "c918732a",
   "metadata": {},
   "outputs": [],
   "source": []
  }
 ],
 "metadata": {
  "kernelspec": {
   "display_name": "Python 3 (ipykernel)",
   "language": "python",
   "name": "python3"
  },
  "language_info": {
   "codemirror_mode": {
    "name": "ipython",
    "version": 3
   },
   "file_extension": ".py",
   "mimetype": "text/x-python",
   "name": "python",
   "nbconvert_exporter": "python",
   "pygments_lexer": "ipython3",
   "version": "3.9.12"
  }
 },
 "nbformat": 4,
 "nbformat_minor": 5
}
