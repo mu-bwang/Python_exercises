{
 "cells": [
  {
   "cell_type": "markdown",
   "id": "e7d04762",
   "metadata": {},
   "source": [
    "## Solution of special cases of CSTR \n",
    "\n",
    "from the book: Surface Water-Quality Modeling by Steven C Chapra. \n",
    "\n",
    "The mass balance equation for a CSTR with first-order kinetics is writte:\n",
    "\n",
    "$\\frac{dc}{dt} + \\lambda c = \\frac{W(t)}{V}$\n",
    "\n",
    "where $\\lambda$ is the eigenvalue and takes:\n",
    "\n",
    "$\\lambda = \\frac{Q}{V} + k + \\frac{v}{H}$\n"
   ]
  },
  {
   "cell_type": "markdown",
   "id": "ad0918ee",
   "metadata": {},
   "source": [
    "## (1) impulse loading (spill)\n",
    "\n",
    "The loading from a instanteous spill can be expressed as:\n",
    "\n",
    "$W(t)=m\\delta(t)$\n",
    "\n",
    "where $m$ is the quality of mass from the spill, $\\delta(t)$ is the Dirac delta function that satisfies the following two conditions:\n",
    "\n",
    "(1) $\\delta(t) = 0$ when $t \\neq 0$\n",
    "\n",
    "(2) $\\int_{-\\infty}^{\\infty} \\delta(t)dt = 1$\n",
    "\n",
    "The solution is: \n",
    "\n",
    "$c = \\frac{m}{V}\\exp(-\\lambda t)$\n",
    "\n"
   ]
  },
  {
   "cell_type": "markdown",
   "id": "1b3a4b2f",
   "metadata": {},
   "source": [
    "## (2) Step loading (new continous source)\n",
    "\n",
    "The loading of new continous source:\n",
    "\n",
    "$W(t) = 0, t<0$\n",
    "\n",
    "$W(t) = W, t\\ge0$\n",
    "\n",
    "The solutio is:\n",
    "\n",
    "$c = \\frac{W}{\\lambda V}(1-\\exp(-\\lambda t))$"
   ]
  },
  {
   "cell_type": "markdown",
   "id": "6ec42c98",
   "metadata": {},
   "source": [
    "EXAMPLE 4.1. STEP LOADING. At time zero, a sewage treatment plant began to discharge 10 MGD of wastewater with a concentration of 200 mg/L to a small detention basin (volume = 20 $\\times$ 10$^4$ m$^3$). If the sewage decays at a rate of 0.1 d$^{-1}$, compute the concentration in the system during the first 2 wk of operation. Also determine the shape parameters to assess the ultimate effect of the plant."
   ]
  },
  {
   "cell_type": "code",
   "execution_count": 10,
   "id": "6b18226d",
   "metadata": {},
   "outputs": [],
   "source": [
    "Q = 10*1e6*0.00378541 # millon gallon per day to m^3/day\n",
    "V = 20e4 # m^3\n",
    "k = 0.1  # /day\n",
    "C0 = 200 # mg/L"
   ]
  },
  {
   "cell_type": "code",
   "execution_count": 11,
   "id": "6171b458",
   "metadata": {},
   "outputs": [],
   "source": [
    "eign = Q/V + k   # /day\n",
    "W = C0 * Q # (mg/L)*(m^3/day)"
   ]
  },
  {
   "cell_type": "code",
   "execution_count": 12,
   "id": "e2fef11f",
   "metadata": {},
   "outputs": [],
   "source": [
    "import numpy as np\n",
    "t = np.arange(0,15)\n",
    "c = W/(eign * V) * (1-np.exp(-eign * t)) # mg/L"
   ]
  },
  {
   "cell_type": "code",
   "execution_count": 14,
   "id": "f9f58ff7",
   "metadata": {},
   "outputs": [
    {
     "data": {
      "text/plain": [
       "[<matplotlib.lines.Line2D at 0x7fbc30286970>]"
      ]
     },
     "execution_count": 14,
     "metadata": {},
     "output_type": "execute_result"
    },
    {
     "data": {
      "image/png": "[encoded data removed]",
      "text/plain": [
       "<Figure size 432x288 with 1 Axes>"
      ]
     },
     "metadata": {
      "needs_background": "light"
     },
     "output_type": "display_data"
    }
   ],
   "source": [
    "import matplotlib.pyplot as plt\n",
    "plt.plot(t,c)"
   ]
  },
  {
   "cell_type": "code",
   "execution_count": null,
   "id": "cca3f306",
   "metadata": {},
   "outputs": [],
   "source": []
  }
 ],
 "metadata": {
  "kernelspec": {
   "display_name": "Python 3 (ipykernel)",
   "language": "python",
   "name": "python3"
  },
  "language_info": {
   "codemirror_mode": {
    "name": "ipython",
    "version": 3
   },
   "file_extension": ".py",
   "mimetype": "text/x-python",
   "name": "python",
   "nbconvert_exporter": "python",
   "pygments_lexer": "ipython3",
   "version": "3.9.12"
  }
 },
 "nbformat": 4,
 "nbformat_minor": 5
}
