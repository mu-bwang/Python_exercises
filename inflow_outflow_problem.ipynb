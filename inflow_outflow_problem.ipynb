{
 "cells": [
  {
   "cell_type": "markdown",
   "id": "bf65baab",
   "metadata": {},
   "source": [
    "# Inflow-outflow problem\n",
    "\n",
    "EXAMPLE 3.3.2 (Water Resources Engineering, Larry W. Mays)\n",
    "\n",
    "A reservoir has the following monthly inflows and outflows in relative units:\n",
    "\n",
    "Month:\t   J\tF\tM\tA\n",
    "\n",
    "Inflows:   10\t5\t0\t5\n",
    "\n",
    "Outflows:\t5\t5\t10\t0\n",
    "\n",
    "\n",
    "If the reservoir contains 30 units of water in storage at the beginning of the year, how many units of water in storage are there at the end of April?"
   ]
  },
  {
   "cell_type": "code",
   "execution_count": 2,
   "id": "f01f332b",
   "metadata": {},
   "outputs": [],
   "source": [
    "S0 = 30 # initial storage"
   ]
  },
  {
   "cell_type": "code",
   "execution_count": 13,
   "id": "584dc0ff",
   "metadata": {},
   "outputs": [],
   "source": [
    "Month = ['J', 'F', 'M', 'A']\n",
    "I = [10, 5, 0, 5] # inflow from Janurary to April\n",
    "O = [5, 5, 10, 0] # outflow from Janurary to April"
   ]
  },
  {
   "cell_type": "code",
   "execution_count": 12,
   "id": "222d288f",
   "metadata": {},
   "outputs": [
    {
     "name": "stdout",
     "output_type": "stream",
     "text": [
      "The storage in the end of April is 30 units\n"
     ]
    }
   ],
   "source": [
    "# Loop through all months \n",
    "S = S0 # initialize the storage\n",
    "for i in range(len(I)): \n",
    "    S = S + I[i] - O[i]\n",
    "print('The storage in the end of April is', S, 'units')"
   ]
  },
  {
   "cell_type": "markdown",
   "id": "a70fb622",
   "metadata": {},
   "source": [
    "# plot the results\n",
    "\n",
    "Now, let's plot the storage at the end of each month, we will need to predefine a list for the plot.\n",
    "\n",
    "We can use numpy array to do this. We will aslo need 'matplotlib.pyplot' to plot the results."
   ]
  },
  {
   "cell_type": "code",
   "execution_count": 22,
   "id": "fbba287e",
   "metadata": {},
   "outputs": [],
   "source": [
    "import numpy as np\n",
    "import matplotlib.pyplot as plt"
   ]
  },
  {
   "cell_type": "code",
   "execution_count": 23,
   "id": "0d1fc52a",
   "metadata": {},
   "outputs": [
    {
     "name": "stdout",
     "output_type": "stream",
     "text": [
      "[0. 0. 0. 0.]\n"
     ]
    }
   ],
   "source": [
    "SS = np.zeros(len(Month))\n",
    "print(SS)"
   ]
  },
  {
   "cell_type": "code",
   "execution_count": 25,
   "id": "cc46834a",
   "metadata": {},
   "outputs": [
    {
     "name": "stdout",
     "output_type": "stream",
     "text": [
      "[35. 35. 25. 30.]\n"
     ]
    }
   ],
   "source": [
    "SS[0] = S0 + I[0] - O[0] # Calculate the first month\n",
    "for i in range(1,len(I)): # loop through the rest months\n",
    "    SS[i] = SS[i-1] + I[i] - O[i]\n",
    "print(SS)"
   ]
  },
  {
   "cell_type": "code",
   "execution_count": 28,
   "id": "d7917774",
   "metadata": {},
   "outputs": [
    {
     "data": {
      "text/plain": [
       "Text(0, 0.5, 'Storage')"
      ]
     },
     "execution_count": 28,
     "metadata": {},
     "output_type": "execute_result"
    },
    {
     "data": {
      "image/png": "[encoded data removed]",
      "text/plain": [
       "<Figure size 432x288 with 1 Axes>"
      ]
     },
     "metadata": {
      "needs_background": "light"
     },
     "output_type": "display_data"
    }
   ],
   "source": [
    "plt.plot(Month,SS,'o-')\n",
    "plt.xlabel('Month')\n",
    "plt.ylabel('Storage')"
   ]
  },
  {
   "cell_type": "code",
   "execution_count": null,
   "id": "a58a3469",
   "metadata": {},
   "outputs": [],
   "source": []
  }
 ],
 "metadata": {
  "kernelspec": {
   "display_name": "Python 3 (ipykernel)",
   "language": "python",
   "name": "python3"
  },
  "language_info": {
   "codemirror_mode": {
    "name": "ipython",
    "version": 3
   },
   "file_extension": ".py",
   "mimetype": "text/x-python",
   "name": "python",
   "nbconvert_exporter": "python",
   "pygments_lexer": "ipython3",
   "version": "3.9.12"
  }
 },
 "nbformat": 4,
 "nbformat_minor": 5
}
