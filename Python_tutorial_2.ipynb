{
 "cells": [
  {
   "cell_type": "markdown",
   "id": "b2c1c426",
   "metadata": {},
   "source": [
    "# Write your own calculator"
   ]
  },
  {
   "cell_type": "markdown",
   "id": "0eac5fd6",
   "metadata": {},
   "source": [
    "## - Calculate pH value\n",
    "\n",
    "The definition of pH is: \n",
    "\n",
    "pH = $-\\log_{10}[H^+]$\n",
    "\n",
    "where $[H^+]$ is the hydrogen ion concentration in mol/liter.\n",
    "\n",
    "We can define a function called 'pH_value' that takes concentration of hydrogen ion as the import parameter."
   ]
  },
  {
   "cell_type": "code",
   "execution_count": 4,
   "id": "15112bd7",
   "metadata": {},
   "outputs": [],
   "source": [
    "import numpy as np\n",
    "def pH_value(concentration_in_mol_per_liter):\n",
    "    pH = -np.log10(concentration_in_mol_per_liter)\n",
    "    return pH"
   ]
  },
  {
   "cell_type": "code",
   "execution_count": 6,
   "id": "40b26f12",
   "metadata": {},
   "outputs": [
    {
     "name": "stdout",
     "output_type": "stream",
     "text": [
      "pH value is 5.6777807052660805\n"
     ]
    }
   ],
   "source": [
    "# Let's calculate pH value when hydrogen ion concentration is 2.1e-6 mol/liter\n",
    "pH = pH_value(2.1e-6)\n",
    "print('pH value is', pH)"
   ]
  },
  {
   "cell_type": "markdown",
   "id": "13f44035",
   "metadata": {},
   "source": [
    "## - Convert temperature betwee fahrenheit and celsius \n",
    "\n",
    "Now let's write a small program to conver temperature between fahrenheit and celsius. Because we want to make converstion both ways, we will need a 'switch' to determine the directioin of conversion. "
   ]
  },
  {
   "cell_type": "code",
   "execution_count": 17,
   "id": "8237f0b7",
   "metadata": {},
   "outputs": [],
   "source": [
    "def Temp_conversion(temp, is_fahrenheit = 1):\n",
    "    if is_fahrenheit == 1:\n",
    "        temp_after_conversion = (temp - 32.0) * 5.0/9.0\n",
    "        print('temperature of', temp, 'F =', temp_after_conversion, 'C')\n",
    "    else:\n",
    "        temp_after_conversion = temp * 9.0/5.0 + 32\n",
    "        print('temperature of', temp, 'C =', temp_after_conversion, 'F')\n",
    "    return temp_after_conversion"
   ]
  },
  {
   "cell_type": "code",
   "execution_count": 21,
   "id": "60bf539e",
   "metadata": {},
   "outputs": [
    {
     "name": "stdout",
     "output_type": "stream",
     "text": [
      "temperature of 32 F = 0.0 C\n",
      "temperature of 32 C = 89.6 F\n"
     ]
    }
   ],
   "source": [
    "T1 = Temp_conversion(32,1)\n",
    "T2 = Temp_conversion(32,0)"
   ]
  },
  {
   "cell_type": "markdown",
   "id": "b3937919",
   "metadata": {},
   "source": [
    "## - Calculate density of water as a function of temperature, pressure, and salinity\n",
    "\n",
    "This piece of code is from the model TAMOC - Texas A&M Oilspill Calculator. It demonstrates how a simple calculator is used in a complete suite of software. You can check out the full model in the following link:\n",
    "\n",
    "https://github.com/socolofs/tamoc "
   ]
  },
  {
   "cell_type": "code",
   "execution_count": 32,
   "id": "f5e4d4cf",
   "metadata": {},
   "outputs": [],
   "source": [
    "def density(T, S, P):\n",
    "    \"\"\"\n",
    "    Computes the density of seawater from Gill (1982)\n",
    "    \n",
    "    Computes the density of seawater. For temperatures less than 40 deg C, this\n",
    "    function uses the equation of state in Gill (1982), *Ocean-Atmosphere\n",
    "    Dynamics*, Academic Press, New York; the equations for this code are taken from\n",
    "    Appendix B in Crounse (2000). For higher temperatures, this function uses the\n",
    "    equations in Sun et al. (2008), Deep-Sea Research I, Volume 55, pages 1304-1310.\n",
    "    \n",
    "    Parameters\n",
    "    ----------\n",
    "    T : float\n",
    "        temperature (K)\n",
    "    S : float\n",
    "        salinity (psu)\n",
    "    P : float\n",
    "        pressure (Pa)\n",
    "    \n",
    "    Returns\n",
    "    -------\n",
    "    rho : float\n",
    "        seawater density (kg/m^3)\n",
    "    \n",
    "    \"\"\"\n",
    "    if T < 273.15 + 40:\n",
    "        # Convert T to dec C and P to bar\n",
    "        T = T - 273.15\n",
    "        P = P * 1.e-5\n",
    "    \n",
    "        # Compute the density at atmospheric pressure\n",
    "        rho_sw_0 = (\n",
    "                    999.842594 + 6.793952e-2 * T - 9.095290e-3 * T**2 \n",
    "                    + 1.001685e-4 * T**3 - 1.120083e-6 * T**4 + 6.536332e-9 * T**5 \n",
    "                    + 8.24493e-1 * S - 5.72466e-3 * S**(3./2.) + 4.8314e-4 * S**2 \n",
    "                    - 4.0899e-3 * T*S + 7.6438e-5 * T**2 * S - 8.2467e-7 * T**3 * \n",
    "                    S + 5.3875e-9 * T**4 * S + 1.0227e-4 * T * S**(3./2.) \n",
    "                    - 1.6546e-6 * T**2 * S**(3./2.)\n",
    "                    )\n",
    "    \n",
    "        # Compute the pressure correction coefficient\n",
    "        K = (\n",
    "             19652.21 + 148.4206 * T - 2.327105 * T**2 + 1.360477e-2 * T**3 \n",
    "             - 5.155288e-5 * T**4 + 3.239908 * P + 1.43713e-3 * T * P \n",
    "             + 1.16092e-4 * T**2 * P - 5.77905e-7 * T**3 * P \n",
    "             + 8.50935e-5 * P**2 - 6.12293e-6 * T * P**2 \n",
    "             + 5.2787e-8 * T**2 * P**2 + 54.6746 * S - 0.603459 * T * S \n",
    "             + 1.09987e-2 * T**2 * S - 6.1670e-5 * T**3 * S \n",
    "             + 7.944e-2 * S**(3./2.) + 1.64833e-2 * T * S**(3./2.) \n",
    "             - 5.3009e-4 * T**2 * S**(3./2.) + 2.2838e-3 * P * S \n",
    "             - 1.0981e-5 * T * P * S - 1.6078e-6 * T**2 * P * S \n",
    "             + 1.91075e-4 * P * S**(3./2.) - 9.9348e-7 * P**2 * S \n",
    "             + 2.0816e-8 * T * P**2 * S + 9.1697e-10 * T**2 * P**2 * S\n",
    "             )\n",
    "        \n",
    "        rho = rho_sw_0 / (1 - P / K)\n",
    "    \n",
    "    else:\n",
    "        # Convert T to deg C and P to MPa\n",
    "        T = T - 273.15\n",
    "        P = P / 1.e6\n",
    "        \n",
    "        # Summations\n",
    "        left_col = 9.9920571e2 + 9.5390097e-2 * T - 7.6186636e-3 * T**2 + \\\n",
    "            3.1305828e-5 * T**3 - 6.1737704e-8  * T**4 + 4.3368858e-1 * P + \\\n",
    "            2.5495667e-5 * P*T**2 - 2.8988021e-7 * P*T**3 + \\\n",
    "            9.5784313e-10 * P*T**4 + 1.7627497e-3 * P**2 - 1.2312703e-4 * P**2*T \\\n",
    "            + 1.3659381e-6 * P**2*T**2 + 4.0454583e-9 * P**2*T**3 - 1.4673241e-5 \\\n",
    "            * P**3 + 8.8391585e-7 * P**3*T - 1.1021321e-9 * P**3*T**2 + \\\n",
    "            4.2472611e-11 * P**3*T**3 - 3.9591772e-14 * P**3*T**4\n",
    "        right_col = -7.99992230e-1 * S + 2.40936500e-3 * S*T - 2.58052775e-5 * \\\n",
    "            S*T**2 + 6.85608405e-8 * S*T**3 + 6.29761106e-4 * P*S - \\\n",
    "            9.36263713e-7 * P**2*S\n",
    "        \n",
    "        rho = left_col - right_col\n",
    "    \n",
    "    return rho"
   ]
  },
  {
   "cell_type": "code",
   "execution_count": 45,
   "id": "23809251",
   "metadata": {},
   "outputs": [
    {
     "name": "stdout",
     "output_type": "stream",
     "text": [
      "water density of freshwater at 0 ^oC =  999.894139017989 kg/m^3\n",
      "water density of seawater at 0 ^oC =  1028.1545938707538 kg/m^3\n",
      "water density of seawater at 1000 m and 0 ^oC =  1032.925543654085 kg/m^3\n"
     ]
    }
   ],
   "source": [
    "rho = density(273.15, 0, 101325)\n",
    "print('water density of freshwater at 0 ^oC = ', rho, 'kg/m^3')\n",
    "rho = density(273.15, 35, 101325)\n",
    "print('water density of seawater at 0 ^oC = ', rho, 'kg/m^3')\n",
    "rho = density(273.15, 35,1.023e+7)\n",
    "print('water density of seawater at 1000 m and 0 ^oC = ', rho, 'kg/m^3')"
   ]
  },
  {
   "cell_type": "code",
   "execution_count": null,
   "id": "bfa41d43",
   "metadata": {},
   "outputs": [],
   "source": []
  }
 ],
 "metadata": {
  "kernelspec": {
   "display_name": "Python 3 (ipykernel)",
   "language": "python",
   "name": "python3"
  },
  "language_info": {
   "codemirror_mode": {
    "name": "ipython",
    "version": 3
   },
   "file_extension": ".py",
   "mimetype": "text/x-python",
   "name": "python",
   "nbconvert_exporter": "python",
   "pygments_lexer": "ipython3",
   "version": "3.9.12"
  }
 },
 "nbformat": 4,
 "nbformat_minor": 5
}
